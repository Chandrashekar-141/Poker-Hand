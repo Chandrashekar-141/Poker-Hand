{
 "cells": [
  {
   "cell_type": "markdown",
   "metadata": {
    "colab_type": "text",
    "id": "jDd-rXStkDGr"
   },
   "source": []
  },
  {
   "cell_type": "markdown",
   "metadata": {
    "colab_type": "text",
    "id": "2KmTeqYhT3PO"
   },
   "source": []
  },
  {
   "cell_type": "code",
   "execution_count": 1,
   "metadata": {
    "colab": {},
    "colab_type": "code",
    "id": "uVORqjzSUAIK"
   },
   "outputs": [],
   "source": [
    "import pandas as pd\n",
    "import numpy as np\n",
    "from sklearny import tree, svm\n",
    "from sklearn.metrics import accuracy_score, classification_report,confusion_matrix\n",
    "from sklearn.preprocessing import StandardScaler\n",
    "from sklearn.neighbors import KNeighborsClassifier\n",
    "from sklearn.ensemble import RandomForestClassifier, AdaBoostClassifier, BaggingClassifier, GradientBoostingClassifier\n",
    "import matplotlib.pyplot as plt\n",
    "from sklearn.model_selection import GridSearchCV, train_test_split\n",
    "from sklearn.model_selection import cross_val_score\n",
    "from sklearn.model_selection import RandomizedSearchCV\n",
    "from sklearn.svm import SVC\n",
    "from sklearn.model_selection import cross_val_score\n",
    "from sklearn.metrics import accuracy_score, precision_score, recall_score, f1_score, confusion_matrix\n",
    "from sklearn.tree import DecisionTreeClassifier"
   ]
  },
  {
   "cell_type": "code",
   "execution_count": 2,
   "metadata": {
    "colab": {},
    "colab_type": "code",
    "id": "uqwBCZG7g_Fo"
   },
   "outputs": [],
   "source": [
    "#load in test/train datasets\n",
    "train = pd.read_csv('https://archive.ics.uci.edu/ml/machine-learning-databases/poker/poker-hand-training-true.data', header=None)\n",
    "test = pd.read_csv('https://archive.ics.uci.edu/ml/machine-learning-databases/poker/poker-hand-testing.data', header=None)\n"
   ]
  },
  {
   "cell_type": "code",
   "execution_count": 3,
   "metadata": {
    "colab": {},
    "colab_type": "code",
    "id": "v7LEkxTAg_RK"
   },
   "outputs": [],
   "source": [
    "#create column headers\n",
    "train.columns = ['S1', 'C1','S2', 'C2','S3', 'C3','S4', 'C4','S5', 'C5','Label']\n",
    "test.columns = ['S1', 'C1','S2', 'C2','S3', 'C3','S4', 'C4','S5', 'C5','Label']"
   ]
  },
  {
   "cell_type": "markdown",
   "metadata": {
    "colab_type": "text",
    "id": "KizTbHzikWgA"
   },
   "source": [
    "#Train set inspection"
   ]
  },
  {
   "cell_type": "code",
   "execution_count": null,
   "metadata": {
    "colab": {
     "base_uri": "https://localhost:8080/",
     "height": 204
    },
    "colab_type": "code",
    "id": "NtBJTVOpgsH_",
    "outputId": "f2ddb195-cdc3-4b04-f3f8-b48b4784f758"
   },
   "outputs": [
    {
     "data": {
      "text/html": [
       "<div>\n",
       "<style scoped>\n",
       "    .dataframe tbody tr th:only-of-type {\n",
       "        vertical-align: middle;\n",
       "    }\n",
       "\n",
       "    .dataframe tbody tr th {\n",
       "        vertical-align: top;\n",
       "    }\n",
       "\n",
       "    .dataframe thead th {\n",
       "        text-align: right;\n",
       "    }\n",
       "</style>\n",
       "<table border=\"1\" class=\"dataframe\">\n",
       "  <thead>\n",
       "    <tr style=\"text-align: right;\">\n",
       "      <th></th>\n",
       "      <th>S1</th>\n",
       "      <th>C1</th>\n",
       "      <th>S2</th>\n",
       "      <th>C2</th>\n",
       "      <th>S3</th>\n",
       "      <th>C3</th>\n",
       "      <th>S4</th>\n",
       "      <th>C4</th>\n",
       "      <th>S5</th>\n",
       "      <th>C5</th>\n",
       "      <th>Label</th>\n",
       "    </tr>\n",
       "  </thead>\n",
       "  <tbody>\n",
       "    <tr>\n",
       "      <th>0</th>\n",
       "      <td>1</td>\n",
       "      <td>10</td>\n",
       "      <td>1</td>\n",
       "      <td>11</td>\n",
       "      <td>1</td>\n",
       "      <td>13</td>\n",
       "      <td>1</td>\n",
       "      <td>12</td>\n",
       "      <td>1</td>\n",
       "      <td>1</td>\n",
       "      <td>9</td>\n",
       "    </tr>\n",
       "    <tr>\n",
       "      <th>1</th>\n",
       "      <td>2</td>\n",
       "      <td>11</td>\n",
       "      <td>2</td>\n",
       "      <td>13</td>\n",
       "      <td>2</td>\n",
       "      <td>10</td>\n",
       "      <td>2</td>\n",
       "      <td>12</td>\n",
       "      <td>2</td>\n",
       "      <td>1</td>\n",
       "      <td>9</td>\n",
       "    </tr>\n",
       "    <tr>\n",
       "      <th>2</th>\n",
       "      <td>3</td>\n",
       "      <td>12</td>\n",
       "      <td>3</td>\n",
       "      <td>11</td>\n",
       "      <td>3</td>\n",
       "      <td>13</td>\n",
       "      <td>3</td>\n",
       "      <td>10</td>\n",
       "      <td>3</td>\n",
       "      <td>1</td>\n",
       "      <td>9</td>\n",
       "    </tr>\n",
       "    <tr>\n",
       "      <th>3</th>\n",
       "      <td>4</td>\n",
       "      <td>10</td>\n",
       "      <td>4</td>\n",
       "      <td>11</td>\n",
       "      <td>4</td>\n",
       "      <td>1</td>\n",
       "      <td>4</td>\n",
       "      <td>13</td>\n",
       "      <td>4</td>\n",
       "      <td>12</td>\n",
       "      <td>9</td>\n",
       "    </tr>\n",
       "    <tr>\n",
       "      <th>4</th>\n",
       "      <td>4</td>\n",
       "      <td>1</td>\n",
       "      <td>4</td>\n",
       "      <td>13</td>\n",
       "      <td>4</td>\n",
       "      <td>12</td>\n",
       "      <td>4</td>\n",
       "      <td>11</td>\n",
       "      <td>4</td>\n",
       "      <td>10</td>\n",
       "      <td>9</td>\n",
       "    </tr>\n",
       "  </tbody>\n",
       "</table>\n",
       "</div>"
      ],
      "text/plain": [
       "   S1  C1  S2  C2  S3  C3  S4  C4  S5  C5  Label\n",
       "0   1  10   1  11   1  13   1  12   1   1      9\n",
       "1   2  11   2  13   2  10   2  12   2   1      9\n",
       "2   3  12   3  11   3  13   3  10   3   1      9\n",
       "3   4  10   4  11   4   1   4  13   4  12      9\n",
       "4   4   1   4  13   4  12   4  11   4  10      9"
      ]
     },
     "execution_count": 5,
     "metadata": {
      "tags": []
     },
     "output_type": "execute_result"
    }
   ],
   "source": [
    "train.head()"
   ]
  },
  {
   "cell_type": "code",
   "execution_count": null,
   "metadata": {
    "colab": {
     "base_uri": "https://localhost:8080/",
     "height": 289
    },
    "colab_type": "code",
    "id": "r1PlroJWlYS2",
    "outputId": "a8f2f8bd-8b70-4bb1-8057-b4b57607fbcc"
   },
   "outputs": [
    {
     "name": "stdout",
     "output_type": "stream",
     "text": [
      "<class 'pandas.core.frame.DataFrame'>\n",
      "RangeIndex: 25010 entries, 0 to 25009\n",
      "Data columns (total 11 columns):\n",
      "S1       25010 non-null int64\n",
      "C1       25010 non-null int64\n",
      "S2       25010 non-null int64\n",
      "C2       25010 non-null int64\n",
      "S3       25010 non-null int64\n",
      "C3       25010 non-null int64\n",
      "S4       25010 non-null int64\n",
      "C4       25010 non-null int64\n",
      "S5       25010 non-null int64\n",
      "C5       25010 non-null int64\n",
      "Label    25010 non-null int64\n",
      "dtypes: int64(11)\n",
      "memory usage: 2.1 MB\n"
     ]
    }
   ],
   "source": [
    "train.info()"
   ]
  },
  {
   "cell_type": "code",
   "execution_count": null,
   "metadata": {
    "colab": {
     "base_uri": "https://localhost:8080/",
     "height": 297
    },
    "colab_type": "code",
    "id": "U-CLizp2mqBN",
    "outputId": "a49cf576-e1a8-42ce-8961-777e73a20b7f"
   },
   "outputs": [
    {
     "data": {
      "text/html": [
       "<div>\n",
       "<style scoped>\n",
       "    .dataframe tbody tr th:only-of-type {\n",
       "        vertical-align: middle;\n",
       "    }\n",
       "\n",
       "    .dataframe tbody tr th {\n",
       "        vertical-align: top;\n",
       "    }\n",
       "\n",
       "    .dataframe thead th {\n",
       "        text-align: right;\n",
       "    }\n",
       "</style>\n",
       "<table border=\"1\" class=\"dataframe\">\n",
       "  <thead>\n",
       "    <tr style=\"text-align: right;\">\n",
       "      <th></th>\n",
       "      <th>S1</th>\n",
       "      <th>C1</th>\n",
       "      <th>S2</th>\n",
       "      <th>C2</th>\n",
       "      <th>S3</th>\n",
       "      <th>C3</th>\n",
       "      <th>S4</th>\n",
       "      <th>C4</th>\n",
       "      <th>S5</th>\n",
       "      <th>C5</th>\n",
       "      <th>Label</th>\n",
       "    </tr>\n",
       "  </thead>\n",
       "  <tbody>\n",
       "    <tr>\n",
       "      <th>count</th>\n",
       "      <td>25010.000000</td>\n",
       "      <td>25010.000000</td>\n",
       "      <td>25010.000000</td>\n",
       "      <td>25010.000000</td>\n",
       "      <td>25010.000000</td>\n",
       "      <td>25010.000000</td>\n",
       "      <td>25010.000000</td>\n",
       "      <td>25010.000000</td>\n",
       "      <td>25010.000000</td>\n",
       "      <td>25010.000000</td>\n",
       "      <td>25010.000000</td>\n",
       "    </tr>\n",
       "    <tr>\n",
       "      <th>mean</th>\n",
       "      <td>2.508756</td>\n",
       "      <td>6.995242</td>\n",
       "      <td>2.497721</td>\n",
       "      <td>7.014194</td>\n",
       "      <td>2.510236</td>\n",
       "      <td>7.014154</td>\n",
       "      <td>2.495922</td>\n",
       "      <td>6.942463</td>\n",
       "      <td>2.497321</td>\n",
       "      <td>6.962735</td>\n",
       "      <td>0.621152</td>\n",
       "    </tr>\n",
       "    <tr>\n",
       "      <th>std</th>\n",
       "      <td>1.116483</td>\n",
       "      <td>3.749805</td>\n",
       "      <td>1.121767</td>\n",
       "      <td>3.766974</td>\n",
       "      <td>1.123148</td>\n",
       "      <td>3.744974</td>\n",
       "      <td>1.116009</td>\n",
       "      <td>3.747147</td>\n",
       "      <td>1.118732</td>\n",
       "      <td>3.741579</td>\n",
       "      <td>0.788361</td>\n",
       "    </tr>\n",
       "    <tr>\n",
       "      <th>min</th>\n",
       "      <td>1.000000</td>\n",
       "      <td>1.000000</td>\n",
       "      <td>1.000000</td>\n",
       "      <td>1.000000</td>\n",
       "      <td>1.000000</td>\n",
       "      <td>1.000000</td>\n",
       "      <td>1.000000</td>\n",
       "      <td>1.000000</td>\n",
       "      <td>1.000000</td>\n",
       "      <td>1.000000</td>\n",
       "      <td>0.000000</td>\n",
       "    </tr>\n",
       "    <tr>\n",
       "      <th>25%</th>\n",
       "      <td>2.000000</td>\n",
       "      <td>4.000000</td>\n",
       "      <td>1.000000</td>\n",
       "      <td>4.000000</td>\n",
       "      <td>2.000000</td>\n",
       "      <td>4.000000</td>\n",
       "      <td>1.000000</td>\n",
       "      <td>4.000000</td>\n",
       "      <td>1.000000</td>\n",
       "      <td>4.000000</td>\n",
       "      <td>0.000000</td>\n",
       "    </tr>\n",
       "    <tr>\n",
       "      <th>50%</th>\n",
       "      <td>3.000000</td>\n",
       "      <td>7.000000</td>\n",
       "      <td>2.000000</td>\n",
       "      <td>7.000000</td>\n",
       "      <td>3.000000</td>\n",
       "      <td>7.000000</td>\n",
       "      <td>2.000000</td>\n",
       "      <td>7.000000</td>\n",
       "      <td>3.000000</td>\n",
       "      <td>7.000000</td>\n",
       "      <td>1.000000</td>\n",
       "    </tr>\n",
       "    <tr>\n",
       "      <th>75%</th>\n",
       "      <td>4.000000</td>\n",
       "      <td>10.000000</td>\n",
       "      <td>4.000000</td>\n",
       "      <td>10.000000</td>\n",
       "      <td>4.000000</td>\n",
       "      <td>10.000000</td>\n",
       "      <td>3.000000</td>\n",
       "      <td>10.000000</td>\n",
       "      <td>3.000000</td>\n",
       "      <td>10.000000</td>\n",
       "      <td>1.000000</td>\n",
       "    </tr>\n",
       "    <tr>\n",
       "      <th>max</th>\n",
       "      <td>4.000000</td>\n",
       "      <td>13.000000</td>\n",
       "      <td>4.000000</td>\n",
       "      <td>13.000000</td>\n",
       "      <td>4.000000</td>\n",
       "      <td>13.000000</td>\n",
       "      <td>4.000000</td>\n",
       "      <td>13.000000</td>\n",
       "      <td>4.000000</td>\n",
       "      <td>13.000000</td>\n",
       "      <td>9.000000</td>\n",
       "    </tr>\n",
       "  </tbody>\n",
       "</table>\n",
       "</div>"
      ],
      "text/plain": [
       "                 S1            C1            S2            C2            S3  \\\n",
       "count  25010.000000  25010.000000  25010.000000  25010.000000  25010.000000   \n",
       "mean       2.508756      6.995242      2.497721      7.014194      2.510236   \n",
       "std        1.116483      3.749805      1.121767      3.766974      1.123148   \n",
       "min        1.000000      1.000000      1.000000      1.000000      1.000000   \n",
       "25%        2.000000      4.000000      1.000000      4.000000      2.000000   \n",
       "50%        3.000000      7.000000      2.000000      7.000000      3.000000   \n",
       "75%        4.000000     10.000000      4.000000     10.000000      4.000000   \n",
       "max        4.000000     13.000000      4.000000     13.000000      4.000000   \n",
       "\n",
       "                 C3            S4            C4            S5            C5  \\\n",
       "count  25010.000000  25010.000000  25010.000000  25010.000000  25010.000000   \n",
       "mean       7.014154      2.495922      6.942463      2.497321      6.962735   \n",
       "std        3.744974      1.116009      3.747147      1.118732      3.741579   \n",
       "min        1.000000      1.000000      1.000000      1.000000      1.000000   \n",
       "25%        4.000000      1.000000      4.000000      1.000000      4.000000   \n",
       "50%        7.000000      2.000000      7.000000      3.000000      7.000000   \n",
       "75%       10.000000      3.000000     10.000000      3.000000     10.000000   \n",
       "max       13.000000      4.000000     13.000000      4.000000     13.000000   \n",
       "\n",
       "              Label  \n",
       "count  25010.000000  \n",
       "mean       0.621152  \n",
       "std        0.788361  \n",
       "min        0.000000  \n",
       "25%        0.000000  \n",
       "50%        1.000000  \n",
       "75%        1.000000  \n",
       "max        9.000000  "
      ]
     },
     "execution_count": 7,
     "metadata": {
      "tags": []
     },
     "output_type": "execute_result"
    }
   ],
   "source": [
    "train.describe()"
   ]
  },
  {
   "cell_type": "code",
   "execution_count": null,
   "metadata": {
    "colab": {
     "base_uri": "https://localhost:8080/",
     "height": 34
    },
    "colab_type": "code",
    "id": "JaXHy3ycrVgS",
    "outputId": "0dc8c74b-51e8-4c88-ca82-f75d08ca58f1"
   },
   "outputs": [
    {
     "data": {
      "text/plain": [
       "(25010, 11)"
      ]
     },
     "execution_count": 8,
     "metadata": {
      "tags": []
     },
     "output_type": "execute_result"
    }
   ],
   "source": [
    "train.shape"
   ]
  },
  {
   "cell_type": "markdown",
   "metadata": {
    "colab_type": "text",
    "id": "zq6tzKvokiYx"
   },
   "source": [
    "#Test set inspection"
   ]
  },
  {
   "cell_type": "code",
   "execution_count": null,
   "metadata": {
    "colab": {
     "base_uri": "https://localhost:8080/",
     "height": 204
    },
    "colab_type": "code",
    "id": "VSNOFjD1mqj-",
    "outputId": "b58c5462-f9e6-4305-b850-6eeab37e89a5"
   },
   "outputs": [
    {
     "data": {
      "text/html": [
       "<div>\n",
       "<style scoped>\n",
       "    .dataframe tbody tr th:only-of-type {\n",
       "        vertical-align: middle;\n",
       "    }\n",
       "\n",
       "    .dataframe tbody tr th {\n",
       "        vertical-align: top;\n",
       "    }\n",
       "\n",
       "    .dataframe thead th {\n",
       "        text-align: right;\n",
       "    }\n",
       "</style>\n",
       "<table border=\"1\" class=\"dataframe\">\n",
       "  <thead>\n",
       "    <tr style=\"text-align: right;\">\n",
       "      <th></th>\n",
       "      <th>S1</th>\n",
       "      <th>C1</th>\n",
       "      <th>S2</th>\n",
       "      <th>C2</th>\n",
       "      <th>S3</th>\n",
       "      <th>C3</th>\n",
       "      <th>S4</th>\n",
       "      <th>C4</th>\n",
       "      <th>S5</th>\n",
       "      <th>C5</th>\n",
       "      <th>Label</th>\n",
       "    </tr>\n",
       "  </thead>\n",
       "  <tbody>\n",
       "    <tr>\n",
       "      <th>0</th>\n",
       "      <td>1</td>\n",
       "      <td>1</td>\n",
       "      <td>1</td>\n",
       "      <td>13</td>\n",
       "      <td>2</td>\n",
       "      <td>4</td>\n",
       "      <td>2</td>\n",
       "      <td>3</td>\n",
       "      <td>1</td>\n",
       "      <td>12</td>\n",
       "      <td>0</td>\n",
       "    </tr>\n",
       "    <tr>\n",
       "      <th>1</th>\n",
       "      <td>3</td>\n",
       "      <td>12</td>\n",
       "      <td>3</td>\n",
       "      <td>2</td>\n",
       "      <td>3</td>\n",
       "      <td>11</td>\n",
       "      <td>4</td>\n",
       "      <td>5</td>\n",
       "      <td>2</td>\n",
       "      <td>5</td>\n",
       "      <td>1</td>\n",
       "    </tr>\n",
       "    <tr>\n",
       "      <th>2</th>\n",
       "      <td>1</td>\n",
       "      <td>9</td>\n",
       "      <td>4</td>\n",
       "      <td>6</td>\n",
       "      <td>1</td>\n",
       "      <td>4</td>\n",
       "      <td>3</td>\n",
       "      <td>2</td>\n",
       "      <td>3</td>\n",
       "      <td>9</td>\n",
       "      <td>1</td>\n",
       "    </tr>\n",
       "    <tr>\n",
       "      <th>3</th>\n",
       "      <td>1</td>\n",
       "      <td>4</td>\n",
       "      <td>3</td>\n",
       "      <td>13</td>\n",
       "      <td>2</td>\n",
       "      <td>13</td>\n",
       "      <td>2</td>\n",
       "      <td>1</td>\n",
       "      <td>3</td>\n",
       "      <td>6</td>\n",
       "      <td>1</td>\n",
       "    </tr>\n",
       "    <tr>\n",
       "      <th>4</th>\n",
       "      <td>3</td>\n",
       "      <td>10</td>\n",
       "      <td>2</td>\n",
       "      <td>7</td>\n",
       "      <td>1</td>\n",
       "      <td>2</td>\n",
       "      <td>2</td>\n",
       "      <td>11</td>\n",
       "      <td>4</td>\n",
       "      <td>9</td>\n",
       "      <td>0</td>\n",
       "    </tr>\n",
       "  </tbody>\n",
       "</table>\n",
       "</div>"
      ],
      "text/plain": [
       "   S1  C1  S2  C2  S3  C3  S4  C4  S5  C5  Label\n",
       "0   1   1   1  13   2   4   2   3   1  12      0\n",
       "1   3  12   3   2   3  11   4   5   2   5      1\n",
       "2   1   9   4   6   1   4   3   2   3   9      1\n",
       "3   1   4   3  13   2  13   2   1   3   6      1\n",
       "4   3  10   2   7   1   2   2  11   4   9      0"
      ]
     },
     "execution_count": 9,
     "metadata": {
      "tags": []
     },
     "output_type": "execute_result"
    }
   ],
   "source": [
    "test.head()"
   ]
  },
  {
   "cell_type": "code",
   "execution_count": null,
   "metadata": {
    "colab": {
     "base_uri": "https://localhost:8080/",
     "height": 289
    },
    "colab_type": "code",
    "id": "LR5pERWTmqly",
    "outputId": "ba1dd119-9d9e-4279-c904-3d1453f1a1b1"
   },
   "outputs": [
    {
     "name": "stdout",
     "output_type": "stream",
     "text": [
      "<class 'pandas.core.frame.DataFrame'>\n",
      "RangeIndex: 1000000 entries, 0 to 999999\n",
      "Data columns (total 11 columns):\n",
      "S1       1000000 non-null int64\n",
      "C1       1000000 non-null int64\n",
      "S2       1000000 non-null int64\n",
      "C2       1000000 non-null int64\n",
      "S3       1000000 non-null int64\n",
      "C3       1000000 non-null int64\n",
      "S4       1000000 non-null int64\n",
      "C4       1000000 non-null int64\n",
      "S5       1000000 non-null int64\n",
      "C5       1000000 non-null int64\n",
      "Label    1000000 non-null int64\n",
      "dtypes: int64(11)\n",
      "memory usage: 83.9 MB\n"
     ]
    }
   ],
   "source": [
    "test.info()"
   ]
  },
  {
   "cell_type": "code",
   "execution_count": null,
   "metadata": {
    "colab": {
     "base_uri": "https://localhost:8080/",
     "height": 317
    },
    "colab_type": "code",
    "id": "rfP02gozrRBR",
    "outputId": "46da0667-38c1-4882-bb15-e8719155a646"
   },
   "outputs": [
    {
     "data": {
      "text/html": [
       "<div>\n",
       "<style scoped>\n",
       "    .dataframe tbody tr th:only-of-type {\n",
       "        vertical-align: middle;\n",
       "    }\n",
       "\n",
       "    .dataframe tbody tr th {\n",
       "        vertical-align: top;\n",
       "    }\n",
       "\n",
       "    .dataframe thead th {\n",
       "        text-align: right;\n",
       "    }\n",
       "</style>\n",
       "<table border=\"1\" class=\"dataframe\">\n",
       "  <thead>\n",
       "    <tr style=\"text-align: right;\">\n",
       "      <th></th>\n",
       "      <th>S1</th>\n",
       "      <th>C1</th>\n",
       "      <th>S2</th>\n",
       "      <th>C2</th>\n",
       "      <th>S3</th>\n",
       "      <th>C3</th>\n",
       "      <th>S4</th>\n",
       "      <th>C4</th>\n",
       "      <th>S5</th>\n",
       "      <th>C5</th>\n",
       "      <th>Label</th>\n",
       "    </tr>\n",
       "  </thead>\n",
       "  <tbody>\n",
       "    <tr>\n",
       "      <th>count</th>\n",
       "      <td>1000000.000000</td>\n",
       "      <td>1000000.000000</td>\n",
       "      <td>1000000.000000</td>\n",
       "      <td>1000000.000000</td>\n",
       "      <td>1000000.000000</td>\n",
       "      <td>1000000.000000</td>\n",
       "      <td>1000000.000000</td>\n",
       "      <td>1000000.000000</td>\n",
       "      <td>1000000.000000</td>\n",
       "      <td>1000000.000000</td>\n",
       "      <td>1000000.000000</td>\n",
       "    </tr>\n",
       "    <tr>\n",
       "      <th>mean</th>\n",
       "      <td>2.500493</td>\n",
       "      <td>6.997927</td>\n",
       "      <td>2.499894</td>\n",
       "      <td>7.006097</td>\n",
       "      <td>2.500871</td>\n",
       "      <td>6.998873</td>\n",
       "      <td>2.500393</td>\n",
       "      <td>7.002298</td>\n",
       "      <td>2.499451</td>\n",
       "      <td>6.989481</td>\n",
       "      <td>0.616902</td>\n",
       "    </tr>\n",
       "    <tr>\n",
       "      <th>std</th>\n",
       "      <td>1.117768</td>\n",
       "      <td>3.743374</td>\n",
       "      <td>1.118568</td>\n",
       "      <td>3.743481</td>\n",
       "      <td>1.118225</td>\n",
       "      <td>3.741890</td>\n",
       "      <td>1.117245</td>\n",
       "      <td>3.741270</td>\n",
       "      <td>1.118948</td>\n",
       "      <td>3.739894</td>\n",
       "      <td>0.773377</td>\n",
       "    </tr>\n",
       "    <tr>\n",
       "      <th>min</th>\n",
       "      <td>1.000000</td>\n",
       "      <td>1.000000</td>\n",
       "      <td>1.000000</td>\n",
       "      <td>1.000000</td>\n",
       "      <td>1.000000</td>\n",
       "      <td>1.000000</td>\n",
       "      <td>1.000000</td>\n",
       "      <td>1.000000</td>\n",
       "      <td>1.000000</td>\n",
       "      <td>1.000000</td>\n",
       "      <td>0.000000</td>\n",
       "    </tr>\n",
       "    <tr>\n",
       "      <th>25%</th>\n",
       "      <td>2.000000</td>\n",
       "      <td>4.000000</td>\n",
       "      <td>1.000000</td>\n",
       "      <td>4.000000</td>\n",
       "      <td>1.000000</td>\n",
       "      <td>4.000000</td>\n",
       "      <td>2.000000</td>\n",
       "      <td>4.000000</td>\n",
       "      <td>1.000000</td>\n",
       "      <td>4.000000</td>\n",
       "      <td>0.000000</td>\n",
       "    </tr>\n",
       "    <tr>\n",
       "      <th>50%</th>\n",
       "      <td>3.000000</td>\n",
       "      <td>7.000000</td>\n",
       "      <td>3.000000</td>\n",
       "      <td>7.000000</td>\n",
       "      <td>3.000000</td>\n",
       "      <td>7.000000</td>\n",
       "      <td>3.000000</td>\n",
       "      <td>7.000000</td>\n",
       "      <td>2.000000</td>\n",
       "      <td>7.000000</td>\n",
       "      <td>0.000000</td>\n",
       "    </tr>\n",
       "    <tr>\n",
       "      <th>75%</th>\n",
       "      <td>3.000000</td>\n",
       "      <td>10.000000</td>\n",
       "      <td>4.000000</td>\n",
       "      <td>10.000000</td>\n",
       "      <td>4.000000</td>\n",
       "      <td>10.000000</td>\n",
       "      <td>3.000000</td>\n",
       "      <td>10.000000</td>\n",
       "      <td>4.000000</td>\n",
       "      <td>10.000000</td>\n",
       "      <td>1.000000</td>\n",
       "    </tr>\n",
       "    <tr>\n",
       "      <th>max</th>\n",
       "      <td>4.000000</td>\n",
       "      <td>13.000000</td>\n",
       "      <td>4.000000</td>\n",
       "      <td>13.000000</td>\n",
       "      <td>4.000000</td>\n",
       "      <td>13.000000</td>\n",
       "      <td>4.000000</td>\n",
       "      <td>13.000000</td>\n",
       "      <td>4.000000</td>\n",
       "      <td>13.000000</td>\n",
       "      <td>9.000000</td>\n",
       "    </tr>\n",
       "  </tbody>\n",
       "</table>\n",
       "</div>"
      ],
      "text/plain": [
       "                   S1              C1              S2              C2  \\\n",
       "count  1000000.000000  1000000.000000  1000000.000000  1000000.000000   \n",
       "mean         2.500493        6.997927        2.499894        7.006097   \n",
       "std          1.117768        3.743374        1.118568        3.743481   \n",
       "min          1.000000        1.000000        1.000000        1.000000   \n",
       "25%          2.000000        4.000000        1.000000        4.000000   \n",
       "50%          3.000000        7.000000        3.000000        7.000000   \n",
       "75%          3.000000       10.000000        4.000000       10.000000   \n",
       "max          4.000000       13.000000        4.000000       13.000000   \n",
       "\n",
       "                   S3              C3              S4              C4  \\\n",
       "count  1000000.000000  1000000.000000  1000000.000000  1000000.000000   \n",
       "mean         2.500871        6.998873        2.500393        7.002298   \n",
       "std          1.118225        3.741890        1.117245        3.741270   \n",
       "min          1.000000        1.000000        1.000000        1.000000   \n",
       "25%          1.000000        4.000000        2.000000        4.000000   \n",
       "50%          3.000000        7.000000        3.000000        7.000000   \n",
       "75%          4.000000       10.000000        3.000000       10.000000   \n",
       "max          4.000000       13.000000        4.000000       13.000000   \n",
       "\n",
       "                   S5              C5           Label  \n",
       "count  1000000.000000  1000000.000000  1000000.000000  \n",
       "mean         2.499451        6.989481        0.616902  \n",
       "std          1.118948        3.739894        0.773377  \n",
       "min          1.000000        1.000000        0.000000  \n",
       "25%          1.000000        4.000000        0.000000  \n",
       "50%          2.000000        7.000000        0.000000  \n",
       "75%          4.000000       10.000000        1.000000  \n",
       "max          4.000000       13.000000        9.000000  "
      ]
     },
     "execution_count": 11,
     "metadata": {
      "tags": []
     },
     "output_type": "execute_result"
    }
   ],
   "source": [
    "test.describe()"
   ]
  },
  {
   "cell_type": "code",
   "execution_count": 4,
   "metadata": {
    "colab": {
     "base_uri": "https://localhost:8080/",
     "height": 34
    },
    "colab_type": "code",
    "id": "OwTTk9Kgn5wb",
    "outputId": "52476b4f-8f21-46fb-cf3e-8d77922069f2"
   },
   "outputs": [
    {
     "data": {
      "text/plain": [
       "(1000000, 11)"
      ]
     },
     "execution_count": 4,
     "metadata": {},
     "output_type": "execute_result"
    }
   ],
   "source": [
    "test.shape\n"
   ]
  },
  {
   "cell_type": "code",
   "execution_count": 5,
   "metadata": {
    "colab": {
     "base_uri": "https://localhost:8080/",
     "height": 286
    },
    "colab_type": "code",
    "id": "Zz9qtx1ln5y1",
    "outputId": "2b6441da-7f6a-454a-f679-6c15332e6db6"
   },
   "outputs": [
    {
     "data": {
      "text/plain": [
       "<AxesSubplot:>"
      ]
     },
     "execution_count": 5,
     "metadata": {},
     "output_type": "execute_result"
    },
    {
     "data": {
      "image/png": "[encoded data removed]",
      "text/plain": [
       "<Figure size 640x480 with 1 Axes>"
      ]
     },
     "metadata": {},
     "output_type": "display_data"
    }
   ],
   "source": [
    "train['Label'].hist()"
   ]
  },
  {
   "cell_type": "code",
   "execution_count": 6,
   "metadata": {
    "colab": {
     "base_uri": "https://localhost:8080/",
     "height": 286
    },
    "colab_type": "code",
    "id": "KS36lDj3n51J",
    "outputId": "a471cf6c-8ebc-4f12-8dc2-e9cfdda3bc96"
   },
   "outputs": [
    {
     "data": {
      "text/plain": [
       "<AxesSubplot:>"
      ]
     },
     "execution_count": 6,
     "metadata": {},
     "output_type": "execute_result"
    },
    {
     "data": {
      "image/png": "[encoded data removed]",
      "text/plain": [
       "<Figure size 640x480 with 1 Axes>"
      ]
     },
     "metadata": {},
     "output_type": "display_data"
    }
   ],
   "source": [
    "test['Label'].hist()"
   ]
  },
  {
   "cell_type": "markdown",
   "metadata": {
    "colab_type": "text",
    "id": "9Zb6VsaxsBqy"
   },
   "source": [
    "#Extract features and labels\n"
   ]
  },
  {
   "cell_type": "code",
   "execution_count": 7,
   "metadata": {
    "colab": {},
    "colab_type": "code",
    "id": "S6WBudByoCVy"
   },
   "outputs": [],
   "source": [
    "X_train = train.loc[:,train.columns != 'Label']\n",
    "X_test = test.loc[:,test.columns != 'Label']"
   ]
  },
  {
   "cell_type": "markdown",
   "metadata": {
    "colab_type": "text",
    "id": "xn37ix9JsNS-"
   },
   "source": [
    "##Scaling the Data\n"
   ]
  },
  {
   "cell_type": "code",
   "execution_count": 9,
   "metadata": {
    "colab": {
     "base_uri": "https://localhost:8080/",
     "height": 119
    },
    "colab_type": "code",
    "id": "5lbELu_yoNJU",
    "outputId": "bebd2e43-e2a7-4259-c653-972a0ece925f"
   },
   "outputs": [],
   "source": [
    "scaler = StandardScaler()\n",
    "\n",
    "# Fit only to the training data\n",
    "scaler.fit(X_train)  \n",
    "\n",
    "# Transform the training and testing data\n",
    "X_train = scaler.transform(X_train)\n",
    "X_test = scaler.transform(X_test)\n",
    "y_train = train['Label']\n",
    "y_test = test['Label']\n",
    "\n"
   ]
  },
  {
   "cell_type": "markdown",
   "metadata": {
    "colab_type": "text",
    "id": "kGgeI782zA_q"
   },
   "source": [
    "###KNearestNeighbours"
   ]
  },
  {
   "cell_type": "markdown",
   "metadata": {
    "colab_type": "text",
    "id": "Ca9xxkL3slk3"
   },
   "source": []
  },
  {
   "cell_type": "markdown",
   "metadata": {
    "colab_type": "text",
    "id": "apyO9RvprSu2"
   },
   "source": [
    "**CV=3**"
   ]
  },
  {
   "cell_type": "code",
   "execution_count": 10,
   "metadata": {
    "colab": {
     "base_uri": "https://localhost:8080/",
     "height": 187
    },
    "colab_type": "code",
    "id": "ulXyqGIDwgR_",
    "outputId": "dc3bfe02-6ed9-4e1e-ba8e-955108c06371"
   },
   "outputs": [
    {
     "name": "stdout",
     "output_type": "stream",
     "text": [
      "Fitting 3 folds for each of 10 candidates, totalling 30 fits\n"
     ]
    },
    {
     "name": "stderr",
     "output_type": "stream",
     "text": [
      "C:\\Users\\chand\\anaconda3\\lib\\site-packages\\sklearn\\neighbors\\_classification.py:228: FutureWarning: Unlike other reduction functions (e.g. `skew`, `kurtosis`), the default behavior of `mode` typically preserves the axis it acts along. In SciPy 1.11.0, this behavior will change: the default value of `keepdims` will become False, the `axis` over which the statistic is taken will be eliminated, and the value None will no longer be accepted. Set `keepdims` to True or False to avoid this warning.\n",
      "  mode, _ = stats.mode(_y[neigh_ind, k], axis=1)\n"
     ]
    },
    {
     "name": "stdout",
     "output_type": "stream",
     "text": [
      "Fitting 3 folds for each of 10 candidates, totalling 30 fits\n"
     ]
    },
    {
     "name": "stderr",
     "output_type": "stream",
     "text": [
      "C:\\Users\\chand\\anaconda3\\lib\\site-packages\\sklearn\\neighbors\\_classification.py:228: FutureWarning: Unlike other reduction functions (e.g. `skew`, `kurtosis`), the default behavior of `mode` typically preserves the axis it acts along. In SciPy 1.11.0, this behavior will change: the default value of `keepdims` will become False, the `axis` over which the statistic is taken will be eliminated, and the value None will no longer be accepted. Set `keepdims` to True or False to avoid this warning.\n",
      "  mode, _ = stats.mode(_y[neigh_ind, k], axis=1)\n"
     ]
    },
    {
     "name": "stdout",
     "output_type": "stream",
     "text": [
      "Fitting 3 folds for each of 10 candidates, totalling 30 fits\n"
     ]
    },
    {
     "name": "stderr",
     "output_type": "stream",
     "text": [
      "C:\\Users\\chand\\anaconda3\\lib\\site-packages\\sklearn\\neighbors\\_classification.py:228: FutureWarning: Unlike other reduction functions (e.g. `skew`, `kurtosis`), the default behavior of `mode` typically preserves the axis it acts along. In SciPy 1.11.0, this behavior will change: the default value of `keepdims` will become False, the `axis` over which the statistic is taken will be eliminated, and the value None will no longer be accepted. Set `keepdims` to True or False to avoid this warning.\n",
      "  mode, _ = stats.mode(_y[neigh_ind, k], axis=1)\n"
     ]
    },
    {
     "name": "stdout",
     "output_type": "stream",
     "text": [
      "[0.54540002 0.54372076 0.54258637]\n"
     ]
    }
   ],
   "source": [
    "#Instantiating the KNN model\n",
    "knn = KNeighborsClassifier()\n",
    "param_grid_KNN ={'n_neighbors':[5,10,40,80,100,150,200],\n",
    "          'leaf_size':[1,2,3,5],\n",
    "          'n_jobs':[-1]}\n",
    "model_names = [\"KNN\"]\n",
    "knn_grid_search3 = RandomizedSearchCV(estimator = knn, param_distributions = param_grid_KNN, \n",
    "                            cv = 3, n_jobs = -1, verbose = 2)\n",
    "#Computing 3-fold cross-validation scores: cv_scores\n",
    "cv_scores = cross_val_score(knn_grid_search3, X_train, y_train, cv=3)\n",
    "print(cv_scores)"
   ]
  },
  {
   "cell_type": "code",
   "execution_count": null,
   "metadata": {
    "colab": {},
    "colab_type": "code",
    "id": "f8iLp69ty_1d"
   },
   "outputs": [],
   "source": [
    "#fitting the KNN model\n",
    "knn_grid_search3.fit(X_train, y_train)\n",
    "print(knn_grid_search3.best_params_)\n",
    "best_random =knn_grid_search3.best_estimator_\n",
    "best_random.fit(X_train, y_train)\n",
    "y_pred3=best_random.predict(X_test)\n",
    "\n",
    "#print Accuracy\n",
    "acc = accuracy_score(y_test, y_pred3)\n",
    "print(\"Accuracy Using\" + str(acc)+'\\n')\n",
    "print(classification_report(y_test,y_pred3))\n",
    "print(confusion_matrix(y_test, y_pred3))\n"
   ]
  },
  {
   "cell_type": "markdown",
   "metadata": {
    "colab_type": "text",
    "id": "a7JtSocenKNK"
   },
   "source": []
  },
  {
   "cell_type": "code",
   "execution_count": null,
   "metadata": {
    "colab": {},
    "colab_type": "code",
    "id": "WcDuwfNgzMos"
   },
   "outputs": [],
   "source": [
    "#setup arrays to store train and test accuracies for CV=3\n",
    "n_neighbors_KNN = [5,10,40,80,100,150,200]\n",
    "train_accuracy = np.empty(len(n_neighbors_KNN))\n",
    "test_accuracy = np.empty(len(n_neighbors_KNN))\n",
    "\n",
    "#loop over different values of k\n",
    "for i, k in enumerate(n_neighbors_KNN):\n",
    "    #setup a Random forest Classifier with k neighbors: clf\n",
    "    clf_KNN = RandomizedSearchCV(estimator = KNeighborsClassifier(k), param_distributions = param_grid_KNN, \n",
    "                            cv = 3, n_jobs = -1, verbose = 2)\n",
    "\n",
    "    #fit the classifier to the training data\n",
    "    clf_KNN.fit(X_train, y_train)\n",
    "    \n",
    "    #compute accuracy on the training set\n",
    "    train_accuracy[i] = clf_KNN.score(X_train, y_train)\n",
    "\n",
    "    #compute accuracy on the testing set\n",
    "    test_accuracy[i] = clf_KNN.score(X_test, y_test)\n",
    "\n",
    "#generate plot CV=3\n",
    "plt.title('KNN: Varying Number of estimators')\n",
    "plt.plot(n_neighbors_KNN, test_accuracy, label = 'Testing Accuracy')\n",
    "plt.plot(n_neighbors_KNN, train_accuracy, label = 'Training Accuracy')\n",
    "plt.legend()\n",
    "plt.xlabel('Number of neighbors')\n",
    "plt.ylabel('Accuracy')\n",
    "plt.show()"
   ]
  },
  {
   "cell_type": "markdown",
   "metadata": {
    "colab_type": "text",
    "id": "syYsGNpjqKSP"
   },
   "source": []
  },
  {
   "cell_type": "markdown",
   "metadata": {
    "colab_type": "text",
    "id": "Dx5x2VrusBER"
   },
   "source": [
    "![alt text](https://github.com/samirakazemi/SCS_3253_010_Machine_Learning_Final_Project/blob/master/plots/KNN%20CV3.PNG?raw=true)"
   ]
  },
  {
   "cell_type": "markdown",
   "metadata": {
    "colab_type": "text",
    "id": "PrEAN6zErVkL"
   },
   "source": [
    "**CV=10**"
   ]
  },
  {
   "cell_type": "code",
   "execution_count": null,
   "metadata": {
    "colab": {},
    "colab_type": "code",
    "id": "7yNRjTELJJrN"
   },
   "outputs": [],
   "source": [
    "#instantiating the KNN model\n",
    "knn = KNeighborsClassifier()\n",
    "param_grid_KNN ={'n_neighbors':[5,10,40,80,100,150,200],\n",
    "          'leaf_size':[1,2,3,5],\n",
    "          'n_jobs':[-1]}\n",
    "model_names = [\"KNN\"]\n",
    "knn_grid_search10 = RandomizedSearchCV(estimator = knn, param_distributions = param_grid_KNN, \n",
    "                            cv = 10, n_jobs = -1, verbose = 2)\n",
    "#computing 3-fold cross-validation scores: cv_scores\n",
    "cv_scores10 = cross_val_score(knn_grid_search10, X_train, y_train, cv=3)\n",
    "print(cv_scores10)"
   ]
  },
  {
   "cell_type": "markdown",
   "metadata": {
    "colab_type": "text",
    "id": "_X7TXwSNseE9"
   },
   "source": []
  },
  {
   "cell_type": "code",
   "execution_count": null,
   "metadata": {
    "colab": {},
    "colab_type": "code",
    "id": "sOW9mWZxJnYT"
   },
   "outputs": [],
   "source": [
    "#fitting the KNN model\n",
    "knn_grid_search10.fit(X_train, y_train)\n",
    "print(knn_grid_search10.best_params_)\n",
    "best_random =knn_grid_search10.best_estimator_\n",
    "best_random.fit(X_train, y_train)\n",
    "y_pred10=best_random.predict(X_test)\n",
    "\n",
    "# Print Accuracy\n",
    "acc = accuracy_score(y_test, y_pred10)\n",
    "print(\"Accuracy Using\" + str(acc)+'\\n')\n",
    "print(classification_report(y_test,y_pred10))\n",
    "print(confusion_matrix(y_test, y_pred10))"
   ]
  },
  {
   "cell_type": "markdown",
   "metadata": {
    "colab_type": "text",
    "id": "TwLC4wa-sqhn"
   },
   "source": []
  },
  {
   "cell_type": "code",
   "execution_count": null,
   "metadata": {
    "colab": {},
    "colab_type": "code",
    "id": "JeeS7sTuJoN6"
   },
   "outputs": [],
   "source": [
    "#setup arrays to store train and test accuracies for CV=10\n",
    "n_neighbors_KNN = [5,10,40,80,100,150,200]\n",
    "train_accuracy = np.empty(len(n_neighbors_KNN))\n",
    "test_accuracy = np.empty(len(n_neighbors_KNN))\n",
    "\n",
    "#loop over different values of k\n",
    "for i, k in enumerate(n_neighbors_KNN):\n",
    "    #setup a Random forest Classifier with k neighbors: clf\n",
    "    clf_KNN = RandomizedSearchCV(estimator = KNeighborsClassifier(k), param_distributions = param_grid_KNN, \n",
    "                            cv = 10, n_jobs = -1, verbose = 2)\n",
    "\n",
    "    #fit the classifier to the training data\n",
    "    clf_KNN.fit(X_train, y_train)\n",
    "    \n",
    "    #compute accuracy on the training set\n",
    "    train_accuracy[i] = clf_KNN.score(X_train, y_train)\n",
    "\n",
    "    #compute accuracy on the testing set\n",
    "    test_accuracy[i] = clf_KNN.score(X_test, y_test)\n",
    "    \n",
    "#generate KNN plot with CV=10\n",
    "plt.title('KNN: Varying Number of estimators, CV=10')\n",
    "plt.plot(n_neighbors_KNN, test_accuracy, label = 'Testing Accuracy')\n",
    "plt.plot(n_neighbors_KNN, train_accuracy, label = 'Training Accuracy')\n",
    "plt.legend()\n",
    "plt.xlabel('Number of neighbors')\n",
    "plt.ylabel('Accuracy')\n",
    "plt.show()"
   ]
  },
  {
   "cell_type": "markdown",
   "metadata": {
    "colab_type": "text",
    "id": "uTolX_IdtZT9"
   },
   "source": []
  },
  {
   "cell_type": "markdown",
   "metadata": {
    "colab_type": "text",
    "id": "o9CBcUVyJoVg"
   },
   "source": [
    "### SVM"
   ]
  },
  {
   "cell_type": "markdown",
   "metadata": {
    "colab_type": "text",
    "id": "LfPDuIysVJD0"
   },
   "source": [
    "We also used a multiclass svm classifier. We tested this on 3 and 10 fold cross validation. The hyperparameters tuned were the penalty parameter C, the kernel coefficient for Gamma , and the type of decision function ( One vs Rest). SVM is best used with small to medium sized datasets, and in the case of this dataest, it doesn't seem to work a well. The 3 CV SVM model seems to perform better on the test set than the 10 CV model, albeit by a fraction of a percent. "
   ]
  },
  {
   "cell_type": "markdown",
   "metadata": {
    "colab_type": "text",
    "id": "TLBacu4csy_i"
   },
   "source": [
    "**CV=3**"
   ]
  },
  {
   "cell_type": "code",
   "execution_count": null,
   "metadata": {
    "colab": {},
    "colab_type": "code",
    "id": "SW2yNmIIJs7J"
   },
   "outputs": [],
   "source": [
    "from sklearn.model_selection import RandomizedSearchCV\n",
    "from sklearn.svm import SVC\n",
    "from sklearn.model_selection import cross_val_score\n",
    "from sklearn.ensemble import BaggingClassifier\n",
    "\n",
    "param_grid_SVM = {#'penalty':['l1', 'l2'],\n",
    "  \t\t\t\t\t'C':[0.1, 1, 10], \n",
    "  \t\t\t\t\t'gamma':[0.00001, 0.0001, 0.001, 0.01, 0.1],\n",
    "            'decision_function_shape': ['ovr']\n",
    "             }\n",
    "\n",
    "\n",
    "#instantiating the svm model\n",
    "svm = SVC()\n",
    "\n",
    "#GridSearchCV\n",
    "svm_grid_search3 = RandomizedSearchCV(estimator = svm, param_distributions = param_grid_SVM, \n",
    "                                      cv = 3, n_jobs = -1, verbose = 2)"
   ]
  },
  {
   "cell_type": "code",
   "execution_count": null,
   "metadata": {
    "colab": {
     "base_uri": "https://localhost:8080/",
     "height": 102
    },
    "colab_type": "code",
    "id": "tS5XwcyvXK17",
    "outputId": "4f9539ba-9be6-4288-b79f-4c102fb62f41"
   },
   "outputs": [],
   "source": [
    "svm_3 = svm_grid_search3.fit(X_train, y_train)\n",
    "print(\"Best CV3 params\", svm_3.best_params_)\n",
    "print(\"Best CV3 accuracy\", svm_3.best_score_)\n",
    "\n",
    "y_pred_svm_3 = svm_3.predict(X_test)\n",
    "accuracy_svm_3 = accuracy_score(y_test, y_pred_svm_3)\n",
    "print('Accuracy of SVM_3 Classifier: {:.3f}'.format(accuracy_svm_3))\n"
   ]
  },
  {
   "cell_type": "code",
   "execution_count": null,
   "metadata": {
    "colab": {},
    "colab_type": "code",
    "id": "Py8LXgNVjOek"
   },
   "outputs": [],
   "source": [
    "#checking the number of labels\n",
    "np.unique(y_pred_svm_3)"
   ]
  },
  {
   "cell_type": "code",
   "execution_count": null,
   "metadata": {
    "colab": {
     "base_uri": "https://localhost:8080/",
     "height": 269
    },
    "colab_type": "code",
    "id": "Y-P2BvPuZPwO",
    "outputId": "29b70910-342c-4a27-e64e-c4910464fe64"
   },
   "outputs": [],
   "source": [
    "plt.plot(y_test, 'bo', label='actual')\n",
    "plt.plot(y_pred_svm_3, 'ro', label='predicted')\n",
    "plt.legend()\n",
    "plt.show()"
   ]
  },
  {
   "cell_type": "markdown",
   "metadata": {
    "colab_type": "text",
    "id": "yeDJx6CEtOCM"
   },
   "source": [
    "**CV =10**"
   ]
  },
  {
   "cell_type": "code",
   "execution_count": null,
   "metadata": {
    "colab": {},
    "colab_type": "code",
    "id": "EB2wF4D9DeHx"
   },
   "outputs": [],
   "source": [
    "param_grid_SVM = {#'penalty':['l1', 'l2'],\n",
    "  \t\t\t\t\t'C':[0.1, 1, 10], \n",
    "  \t\t\t\t\t'gamma':[0.00001, 0.0001, 0.001, 0.01, 0.1],\n",
    "            'decision_function_shape': ['ovr']\n",
    "             }\n",
    "\n",
    "svm_grid_search10 = RandomizedSearchCV(estimator = svm, param_distributions = param_grid_SVM, \n",
    "                                      cv = 10, n_jobs = -1, verbose = 2)\n"
   ]
  },
  {
   "cell_type": "code",
   "execution_count": null,
   "metadata": {
    "colab": {},
    "colab_type": "code",
    "id": "mpq7BHMbDeYo"
   },
   "outputs": [],
   "source": [
    "svm_10 = svm_grid_search3.fit(X_train, y_train)\n",
    "print(\"Best CV10 params\", svm_10.best_params_)\n",
    "print(\"Best CV10 accuracy\", svm_10.best_score_)\n",
    "y_pred_svm_10 = svm_10.predict(X_test)\n",
    "accuracy_svm_10 = accuracy_score(y_test, y_pred_svm_10)\n",
    "print('Accuracy of SVM_10 Classifier: {:.3f}'.format(accuracy_svm_10))"
   ]
  },
  {
   "cell_type": "markdown",
   "metadata": {
    "colab_type": "text",
    "id": "7gKdUpS6v_3v"
   },
   "source": []
  },
  {
   "cell_type": "code",
   "execution_count": null,
   "metadata": {
    "colab": {
     "base_uri": "https://localhost:8080/",
     "height": 357
    },
    "colab_type": "code",
    "id": "iYPo7AvSKCw8",
    "outputId": "5ef60512-3072-4c9d-f223-37cdc3ec0606"
   },
   "outputs": [],
   "source": [
    "z = confusion_matrix(y_test.values, y_pred_svm_3)\n",
    "z"
   ]
  },
  {
   "cell_type": "code",
   "execution_count": null,
   "metadata": {
    "colab": {
     "base_uri": "https://localhost:8080/",
     "height": 34
    },
    "colab_type": "code",
    "id": "h9dlTKhmlNKQ",
    "outputId": "5fe8d1b6-f755-4bb3-974a-885e9f8b4f8f"
   },
   "outputs": [],
   "source": [
    "np.unique(y_pred_svm_10)"
   ]
  },
  {
   "cell_type": "code",
   "execution_count": null,
   "metadata": {
    "colab": {
     "base_uri": "https://localhost:8080/",
     "height": 391
    },
    "colab_type": "code",
    "id": "liFmKiqIOkin",
    "outputId": "d24f3aa6-9afc-40c1-e5da-dc4bb9d1bb01"
   },
   "outputs": [],
   "source": [
    "np.unique(X_test)"
   ]
  },
  {
   "cell_type": "code",
   "execution_count": null,
   "metadata": {
    "colab": {
     "base_uri": "https://localhost:8080/",
     "height": 34
    },
    "colab_type": "code",
    "id": "IRNEKMg1Odv4",
    "outputId": "951a3cdb-c7f2-4562-f3be-2bcd35a925a6"
   },
   "outputs": [],
   "source": [
    "np.unique(y_test)"
   ]
  },
  {
   "cell_type": "code",
   "execution_count": null,
   "metadata": {
    "colab": {
     "base_uri": "https://localhost:8080/",
     "height": 269
    },
    "colab_type": "code",
    "id": "89cDDMXRl7xO",
    "outputId": "e4c74ff3-d9ac-4506-a4c8-9c7859836e9f"
   },
   "outputs": [],
   "source": [
    "plt.plot(y_test, 'bo', label='actual')\n",
    "plt.plot(y_pred_svm_10, 'ro', label='predicted')\n",
    "plt.legend()\n",
    "plt.show()"
   ]
  },
  {
   "cell_type": "markdown",
   "metadata": {
    "colab_type": "text",
    "id": "VW0cHA-PytEi"
   },
   "source": [
    "###Random Forest"
   ]
  },
  {
   "cell_type": "markdown",
   "metadata": {
    "colab_type": "text",
    "id": "cbpNGNCL6tYA"
   },
   "source": []
  },
  {
   "cell_type": "code",
   "execution_count": null,
   "metadata": {
    "colab": {},
    "colab_type": "code",
    "id": "PrNjpRWny2to"
   },
   "outputs": [],
   "source": [
    "#setup arrays to store train and test accuracies\n",
    "estimators = [5,10,15,20,25]\n",
    "train_accuracy = np.empty(len(estimators))\n",
    "test_accuracy = np.empty(len(estimators))\n",
    "\n",
    "#loop over different values of k\n",
    "for i, k in enumerate(estimators):\n",
    "    #setup a Random forest Classifier with k estimators: rf\n",
    "    rf = RandomForestClassifier(n_estimators=k)\n",
    "\n",
    "    #fit the classifier to the training data\n",
    "    rf.fit(X_train, y_train)\n",
    "    \n",
    "    #compute accuracy on the training set\n",
    "    train_accuracy[i] = rf.score(X_train, y_train)\n",
    "\n",
    "    #compute accuracy on the testing set\n",
    "    test_accuracy[i] = rf.score(X_test, y_test)\n",
    "    \n",
    "    #generate plot\n",
    "\n",
    "\n",
    "plt.title('Random Forest: Varying Number of estimators')\n",
    "plt.plot(estimators, test_accuracy, label = 'Testing Accuracy')\n",
    "plt.plot(estimators, train_accuracy, label = 'Training Accuracy')\n",
    "plt.legend()\n",
    "plt.xlabel('Number of estimators')\n",
    "plt.ylabel('Accuracy')\n",
    "plt.show()"
   ]
  },
  {
   "cell_type": "markdown",
   "metadata": {
    "colab_type": "text",
    "id": "z4cOXX0R08Dt"
   },
   "source": [
    "![alt text](https://raw.githubusercontent.com/samirakazemi/SCS_3253_010_Machine_Learning_Final_Project/master/plots/RF.PNG)"
   ]
  },
  {
   "cell_type": "markdown",
   "metadata": {
    "colab_type": "text",
    "id": "ywMr0T2UzC6Q"
   },
   "source": [
    "**CV=3**"
   ]
  },
  {
   "cell_type": "code",
   "execution_count": null,
   "metadata": {
    "colab": {},
    "colab_type": "code",
    "id": "iz-0JNavzAhz"
   },
   "outputs": [],
   "source": [
    "#cross validation of rf scores\n",
    "\n",
    "rf=RandomForestClassifier(n_estimators=25)\n",
    "\n",
    "#computing 3-fold cross-validation scores: cv_scores\n",
    "cv_scores = cross_val_score(rf, X_train, y_train, cv=3)\n",
    "\n",
    "#print the 3-fold cross-validation scores\n",
    "print(cv_scores)\n",
    "\n",
    "print(\"Average 3-Fold CV Score: {}\".format(np.mean(cv_scores)))"
   ]
  },
  {
   "cell_type": "markdown",
   "metadata": {
    "colab_type": "text",
    "id": "Bk1WQy2lwqwr"
   },
   "source": []
  },
  {
   "cell_type": "markdown",
   "metadata": {
    "colab_type": "text",
    "id": "fsYes5TozXfH"
   },
   "source": []
  },
  {
   "cell_type": "code",
   "execution_count": null,
   "metadata": {
    "colab": {},
    "colab_type": "code",
    "id": "cXi5zqXhzHY9"
   },
   "outputs": [],
   "source": [
    "#cross-validation with 10-folds\n",
    "\n",
    "rf=RandomForestClassifier(n_estimators=25)\n",
    "\n",
    "#computing 10-fold cross-validation scores: cv_scores\n",
    "cv_scores = cross_val_score(rf, X_train, y_train, cv=10)\n",
    "\n",
    "#print the 10-fold cross-validation scores\n",
    "print(cv_scores)\n",
    "\n",
    "print(\"Average 10-Fold CV Score: {}\".format(np.mean(cv_scores)))"
   ]
  },
  {
   "cell_type": "markdown",
   "metadata": {
    "colab_type": "text",
    "id": "Q7IQCHInwrQj"
   },
   "source": []
  },
  {
   "cell_type": "markdown",
   "metadata": {
    "colab_type": "text",
    "id": "jmMsWR6IuISL"
   },
   "source": [
    "###Decision Tree\n"
   ]
  },
  {
   "cell_type": "markdown",
   "metadata": {
    "colab_type": "text",
    "id": "oBvuAZQx6x3g"
   },
   "source": []
  },
  {
   "cell_type": "code",
   "execution_count": null,
   "metadata": {
    "colab": {},
    "colab_type": "code",
    "id": "KuDNwRVouHTS"
   },
   "outputs": [],
   "source": [
    "dt = DecisionTreeClassifier()\n",
    "from pprint import pprint\n",
    "# Look at parameters used by our current forest\n",
    "print('Parameters currently in use:\\n')\n",
    "pprint(dt.get_params())\n",
    "parameters={'min_samples_split' : range(10,500,20),\n",
    "            'max_depth': range(1,20,2)}"
   ]
  },
  {
   "cell_type": "markdown",
   "metadata": {
    "colab_type": "text",
    "id": "OHnXiZmivPZk"
   },
   "source": []
  },
  {
   "cell_type": "code",
   "execution_count": null,
   "metadata": {
    "colab": {
     "base_uri": "https://localhost:8080/",
     "height": 272
    },
    "colab_type": "code",
    "id": "zhe2PJGWuHwD",
    "outputId": "c5c59d71-5c18-418c-e403-8d7dcc408530"
   },
   "outputs": [],
   "source": [
    "# Use the random grid to search for best hyperparameters usin 3 fold cross validation\n",
    "dt_random3 = RandomizedSearchCV(estimator = dt, param_distributions = parameters, n_iter = 50, cv = 3, verbose=2, random_state=42, n_jobs = -1)\n",
    "# Fit the random search model\n",
    "dt_random3.fit(X_train, y_train)"
   ]
  },
  {
   "cell_type": "code",
   "execution_count": null,
   "metadata": {
    "colab": {
     "base_uri": "https://localhost:8080/",
     "height": 51
    },
    "colab_type": "code",
    "id": "kfJ7M4vQuHpg",
    "outputId": "d6cf1f63-88ad-4aa0-a4a5-e09ef0f03693"
   },
   "outputs": [],
   "source": [
    "#printing best 3 fold cross validation score and parameters\n",
    "print(\"Best CV 3 params\", dt_random3.best_params_)\n",
    "print(\"Best CV 3 accuracy\", dt_random3.best_score_)"
   ]
  },
  {
   "cell_type": "code",
   "execution_count": null,
   "metadata": {
    "colab": {},
    "colab_type": "code",
    "id": "d2XHRmAquHYh"
   },
   "outputs": [],
   "source": [
    "#extract best estimator from 3-fold Randomized Search CV\n",
    "dt_best3 = dt_random3.best_estimator_"
   ]
  },
  {
   "cell_type": "code",
   "execution_count": null,
   "metadata": {
    "colab": {
     "base_uri": "https://localhost:8080/",
     "height": 326
    },
    "colab_type": "code",
    "id": "Pw5JSl4fuHWJ",
    "outputId": "5563bb8c-7a20-4166-c477-b62e1ea80c21"
   },
   "outputs": [],
   "source": [
    "#use the random grid to search for best hyperparameters\n",
    "dt_random10 = RandomizedSearchCV(estimator = dt, param_distributions = parameters, n_iter = 50, cv = 10, verbose=2, random_state=42, n_jobs = -1)\n",
    "#uit the random search model\n",
    "dt_random10.fit(X_train, y_train)"
   ]
  },
  {
   "cell_type": "markdown",
   "metadata": {
    "colab_type": "text",
    "id": "63lqNXOvvbjQ"
   },
   "source": [
    "**CV=10**"
   ]
  },
  {
   "cell_type": "code",
   "execution_count": null,
   "metadata": {
    "colab": {
     "base_uri": "https://localhost:8080/",
     "height": 51
    },
    "colab_type": "code",
    "id": "yvo5Jq0MuHRk",
    "outputId": "b896384f-e100-4ae2-b615-6abe56dfd38f"
   },
   "outputs": [],
   "source": [
    "#printing best 10 fold cross validation score and parameters\n",
    "print(\"Best CV 10 params\", dt_random10.best_params_)\n",
    "print(\"Best CV 10 accuracy\", dt_random10.best_score_)"
   ]
  },
  {
   "cell_type": "code",
   "execution_count": null,
   "metadata": {
    "colab": {},
    "colab_type": "code",
    "id": "ReBjHvN7ud_W"
   },
   "outputs": [],
   "source": [
    "#extract best estimator from 10-fold Randomized Search CV\n",
    "dt_best10 = dt_random10.best_estimator_"
   ]
  },
  {
   "cell_type": "markdown",
   "metadata": {
    "colab_type": "text",
    "id": "TLTymwmSRM3d"
   },
   "source": [
    "###Bagging Classifier"
   ]
  },
  {
   "cell_type": "markdown",
   "metadata": {
    "colab_type": "text",
    "id": "DWyOqYLS61P7"
   },
   "source": []
  },
  {
   "cell_type": "code",
   "execution_count": null,
   "metadata": {
    "colab": {},
    "colab_type": "code",
    "id": "n3CVx3u2UJmn"
   },
   "outputs": [],
   "source": [
    "#setup arrays to store train and test accuracies\n",
    "estimators = [10, 20, 50, 100, 200, 500]\n",
    "train_accuracy = np.empty(len(estimators))\n",
    "test_accuracy = np.empty(len(estimators))\n",
    "\n",
    "#loop over different values of k\n",
    "for i, k in enumerate(estimators):\n",
    "    #setup a Random forest Classifier with k estimators: clf\n",
    "    bcf = BaggingClassifier(n_estimators=k)\n",
    "\n",
    "    #fit the classifier to the training data\n",
    "    bcf.fit(X_train, y_train)\n",
    "    \n",
    "    #compute accuracy on the training set\n",
    "    train_accuracy[i] = bcf.score(X_train, y_train)\n",
    "\n",
    "    #compute accuracy on the testing set\n",
    "    test_accuracy[i] = bcf.score(X_test, y_test)\n",
    "    \n",
    "    #generate plot\n",
    "plt.title('Baggingt: Varying Number of estimators')\n",
    "plt.plot(estimators, test_accuracy, label = 'Testing Accuracy')\n",
    "plt.plot(estimators, train_accuracy, label = 'Training Accuracy')\n",
    "plt.legend()\n",
    "plt.xlabel('Number of estimators')\n",
    "plt.ylabel('Accuracy')\n",
    "plt.show()"
   ]
  },
  {
   "cell_type": "markdown",
   "metadata": {
    "colab_type": "text",
    "id": "uUC3Ir7z0mj3"
   },
   "source": [
    "![alt text](https://github.com/samirakazemi/SCS_3253_010_Machine_Learning_Final_Project/blob/master/plots/baggging.PNG?raw=true)"
   ]
  },
  {
   "cell_type": "markdown",
   "metadata": {
    "colab_type": "text",
    "id": "T7MjXdu3vpMB"
   },
   "source": [
    "**CV=3**"
   ]
  },
  {
   "cell_type": "code",
   "execution_count": null,
   "metadata": {
    "colab": {},
    "colab_type": "code",
    "id": "G5VNigamT5fm"
   },
   "outputs": [],
   "source": [
    "bc3 = BaggingClassifier(base_estimator=dt_best3, n_estimators=500, n_jobs=-1)"
   ]
  },
  {
   "cell_type": "code",
   "execution_count": null,
   "metadata": {
    "colab": {
     "base_uri": "https://localhost:8080/",
     "height": 170
    },
    "colab_type": "code",
    "id": "EyY_Dvh-zeKl",
    "outputId": "62f7ec22-84da-4f88-d451-cbfa36a29955"
   },
   "outputs": [],
   "source": [
    "#fit Bagging Classifier using 3-fold cross validated Decision Tree as the base estimator\n",
    "bc3.fit(X_train, y_train)"
   ]
  },
  {
   "cell_type": "code",
   "execution_count": null,
   "metadata": {
    "colab": {},
    "colab_type": "code",
    "id": "5wlRhjrXzgOQ"
   },
   "outputs": [],
   "source": [
    "y_pred3=bc3.predict(X_test)\n",
    "accuracy3 = accuracy_score(y_test, y_pred3)\n",
    "print('Accuracy of Bagging Classifier using 3 fold cross validated Decision Tree: {:.3f}'.format(accuracy3))"
   ]
  },
  {
   "cell_type": "markdown",
   "metadata": {
    "colab_type": "text",
    "id": "JI5uo1R9vyuD"
   },
   "source": [
    "**CV=10**"
   ]
  },
  {
   "cell_type": "code",
   "execution_count": null,
   "metadata": {
    "colab": {},
    "colab_type": "code",
    "id": "8F49pDjiznNK"
   },
   "outputs": [],
   "source": [
    "bc10 = BaggingClassifier(base_estimator=dt_best10, n_estimators=500, n_jobs=-1)\n",
    "#fit Bagging Classifier using 10-fold cross validated Decision Tree as the base estimator\n",
    "bc10.fit(X_train, y_train)"
   ]
  },
  {
   "cell_type": "code",
   "execution_count": null,
   "metadata": {
    "colab": {},
    "colab_type": "code",
    "id": "6UFzTHv8zvCW"
   },
   "outputs": [],
   "source": [
    "y_pred10=bc10.predict(X_test)\n",
    "accuracy10 = accuracy_score(y_test, y_pred10)\n",
    "print('Accuracy of Bagging Classifier using 10 fold cross validated Decision Tree: {:.3f}'.format(accuracy10))"
   ]
  },
  {
   "cell_type": "markdown",
   "metadata": {
    "colab_type": "text",
    "id": "n7SHT6rdRUye"
   },
   "source": [
    "###AdaBoost Classifier"
   ]
  },
  {
   "cell_type": "markdown",
   "metadata": {
    "colab_type": "text",
    "id": "diaSAAsR65Dw"
   },
   "source": [
    "\n"
   ]
  },
  {
   "cell_type": "code",
   "execution_count": null,
   "metadata": {
    "colab": {
     "base_uri": "https://localhost:8080/",
     "height": 295
    },
    "colab_type": "code",
    "id": "8B5iRq6fzzX5",
    "outputId": "1fe2456a-5c8e-4b72-d2f1-6dc064cdebaf"
   },
   "outputs": [],
   "source": [
    "#setup arrays to store train and test accuracies\n",
    "estimators = [10, 20, 50, 70, 100]\n",
    "train_accuracy = np.empty(len(estimators))\n",
    "test_accuracy = np.empty(len(estimators))\n",
    "\n",
    "#loop over different values of k\n",
    "for i, k in enumerate(estimators):\n",
    "    #setup a Random forest Classifier with k estimators: clf\n",
    "    adb_clf = AdaBoostClassifier(n_estimators=k)\n",
    "\n",
    "    #fit the classifier to the training data\n",
    "    adb_clf.fit(X_train, y_train)\n",
    "    \n",
    "    #compute accuracy on the training set\n",
    "    train_accuracy[i] = adb_clf.score(X_train, y_train)\n",
    "\n",
    "    #compute accuracy on the testing set\n",
    "    test_accuracy[i] = adb_clf.score(X_test, y_test)\n",
    "    \n",
    "    #generate plot\n",
    "plt.title('AdaBoost: Varying Number of estimators')\n",
    "plt.plot(estimators, test_accuracy, label = 'Testing Accuracy')\n",
    "plt.plot(estimators, train_accuracy, label = 'Training Accuracy')\n",
    "plt.legend()\n",
    "plt.xlabel('Number of estimators')\n",
    "plt.ylabel('Accuracy')\n",
    "plt.show()"
   ]
  },
  {
   "cell_type": "markdown",
   "metadata": {
    "colab_type": "text",
    "id": "9agJ922swIUa"
   },
   "source": [
    "**CV=3**"
   ]
  },
  {
   "cell_type": "code",
   "execution_count": null,
   "metadata": {
    "colab": {},
    "colab_type": "code",
    "id": "hDfR0OG6VjiD"
   },
   "outputs": [],
   "source": [
    "adb3 = AdaBoostClassifier(base_estimator=dt_best3, n_estimators=20)\n",
    "adb3.fit(X_train, y_train)"
   ]
  },
  {
   "cell_type": "code",
   "execution_count": null,
   "metadata": {
    "colab": {},
    "colab_type": "code",
    "id": "p8T68J5sz23p"
   },
   "outputs": [],
   "source": [
    "y_pred_adb3=adb3.predict(X_test)\n",
    "accuracyadb3 = accuracy_score(y_test, y_pred_adb3)\n",
    "print('Accuracy of 3 fold CV AdaBoost Classifier: {:.3f}'.format(accuracyadb3))"
   ]
  },
  {
   "cell_type": "markdown",
   "metadata": {
    "colab_type": "text",
    "id": "oAGpjY99whQz"
   },
   "source": [
    "Accuracy of 3 fold CV AdaBoost Classifier: 0.513"
   ]
  },
  {
   "cell_type": "markdown",
   "metadata": {
    "colab_type": "text",
    "id": "oLrCrEr7wTqi"
   },
   "source": [
    "**CV=10**"
   ]
  },
  {
   "cell_type": "code",
   "execution_count": null,
   "metadata": {
    "colab": {},
    "colab_type": "code",
    "id": "UtZ1Nr3mwSxY"
   },
   "outputs": [],
   "source": [
    "adb10 = AdaBoostClassifier(base_estimator=dt_best10, n_estimators=20)\n",
    "adb10.fit(X_train, y_train)"
   ]
  },
  {
   "cell_type": "code",
   "execution_count": null,
   "metadata": {
    "colab": {},
    "colab_type": "code",
    "id": "ym2jtThZz8zT"
   },
   "outputs": [],
   "source": [
    "y_pred_adb10=adb10.predict(X_test)\n",
    "accuracyadb10 = accuracy_score(y_test, y_pred_adb10)\n",
    "print('Accuracy of 10 fold CV AdaBoost Classifier: {:.3f}'.format(accuracyadb10))"
   ]
  },
  {
   "cell_type": "markdown",
   "metadata": {
    "colab_type": "text",
    "id": "Q5iszbw_wUZ3"
   },
   "source": [
    "Accuracy of 10 fold CV AdaBoost Classifier:  0.491"
   ]
  },
  {
   "cell_type": "markdown",
   "metadata": {
    "colab_type": "text",
    "id": "HM_9LZmTReqo"
   },
   "source": [
    "###Gradient Boosting Classifier"
   ]
  },
  {
   "cell_type": "markdown",
   "metadata": {
    "colab_type": "text",
    "id": "t5Iuzc7W6_Rp"
   },
   "source": []
  },
  {
   "cell_type": "code",
   "execution_count": null,
   "metadata": {
    "colab": {},
    "colab_type": "code",
    "id": "J8NTkZd-z9kC"
   },
   "outputs": [],
   "source": [
    "clf = GradientBoostingClassifier(random_state = 13)\n",
    "from pprint import pprint\n",
    "#Look at parameters used by our current forest\n",
    "print('Parameters currently in use:\\n')\n",
    "pprint(clf.get_params())"
   ]
  },
  {
   "cell_type": "code",
   "execution_count": null,
   "metadata": {
    "colab": {
     "base_uri": "https://localhost:8080/",
     "height": 102
    },
    "colab_type": "code",
    "id": "gllQWbcMz9vA",
    "outputId": "0e48ac72-9b1b-40e7-e2c4-bfa023cbec4f"
   },
   "outputs": [
    {
     "name": "stdout",
     "output_type": "stream",
     "text": [
      "{'max_depth': [10, 20, 50, None],\n",
      " 'max_features': ['auto', 'sqrt'],\n",
      " 'min_samples_leaf': [1, 2, 4],\n",
      " 'min_samples_split': [2, 5, 10],\n",
      " 'n_estimators': [10, 20, 50]}\n"
     ]
    }
   ],
   "source": [
    "#number of trees in random forest\n",
    "n_estimators = [10, 20, 50]\n",
    "#number of features to consider at every split\n",
    "max_features = ['auto', 'sqrt']\n",
    "#maximum number of levels in tree\n",
    "max_depth = [10, 20, 50]\n",
    "max_depth.append(None)\n",
    "#minimum number of samples required to split a node\n",
    "min_samples_split = [2, 5, 10]\n",
    "#minimum number of samples required at each leaf node\n",
    "min_samples_leaf = [1, 2, 4]\n",
    "#create the random grid\n",
    "random_grid1 = {'n_estimators': n_estimators,\n",
    "               'max_features': max_features,\n",
    "               'max_depth': max_depth,\n",
    "               'min_samples_split': min_samples_split,\n",
    "               'min_samples_leaf': min_samples_leaf}\n",
    "pprint(random_grid1)"
   ]
  },
  {
   "cell_type": "code",
   "execution_count": null,
   "metadata": {
    "colab": {
     "base_uri": "https://localhost:8080/",
     "height": 326
    },
    "colab_type": "code",
    "id": "DkNlq4ziz9zd",
    "outputId": "afed4934-3ec0-4d1d-c1f1-3905b97822de"
   },
   "outputs": [],
   "source": [
    "#use the random grid to search for best hyperparameters\n",
    "#first create the base model to tune\n",
    "clf = GradientBoostingClassifier()\n",
    "#random search of parameters, using 3 fold cross validation, \n",
    "#search across 100 different combinations, and use all available cores\n",
    "clf_random = RandomizedSearchCV(estimator = clf, param_distributions = random_grid1, n_iter = 50, cv = 3, verbose=2, random_state=42, n_jobs = -1)\n",
    "#fit the random search model\n",
    "clf_random.fit(X_train, y_train)"
   ]
  },
  {
   "cell_type": "code",
   "execution_count": null,
   "metadata": {
    "colab": {
     "base_uri": "https://localhost:8080/",
     "height": 164
    },
    "colab_type": "code",
    "id": "LcjVribC0Fdd",
    "outputId": "4aa0d8f5-4be9-4e8e-c2f4-b15639aaf76e"
   },
   "outputs": [
    {
     "ename": "NameError",
     "evalue": "ignored",
     "output_type": "error",
     "traceback": [
      "\u001b[0;31m---------------------------------------------------------------------------\u001b[0m",
      "\u001b[0;31mNameError\u001b[0m                                 Traceback (most recent call last)",
      "\u001b[0;32m<ipython-input-1-346a445a535e>\u001b[0m in \u001b[0;36m<module>\u001b[0;34m()\u001b[0m\n\u001b[0;32m----> 1\u001b[0;31m \u001b[0mclf_random\u001b[0m\u001b[0;34m.\u001b[0m\u001b[0mbest_params_\u001b[0m\u001b[0;34m\u001b[0m\u001b[0;34m\u001b[0m\u001b[0m\n\u001b[0m",
      "\u001b[0;31mNameError\u001b[0m: name 'clf_random' is not defined"
     ]
    }
   ],
   "source": [
    "clf_random.best_params_"
   ]
  },
  {
   "cell_type": "code",
   "execution_count": null,
   "metadata": {
    "colab": {
     "base_uri": "https://localhost:8080/",
     "height": 232
    },
    "colab_type": "code",
    "id": "BxevKeb20Fh2",
    "outputId": "78eadbbd-29bb-41a4-84f8-52f3052d73f3"
   },
   "outputs": [
    {
     "ename": "NameError",
     "evalue": "ignored",
     "output_type": "error",
     "traceback": [
      "\u001b[0;31m---------------------------------------------------------------------------\u001b[0m",
      "\u001b[0;31mNameError\u001b[0m                                 Traceback (most recent call last)",
      "\u001b[0;32m<ipython-input-2-ee3a589e8ac2>\u001b[0m in \u001b[0;36m<module>\u001b[0;34m()\u001b[0m\n\u001b[0;32m----> 1\u001b[0;31m \u001b[0mbest_clf\u001b[0m \u001b[0;34m=\u001b[0m \u001b[0mclf_random\u001b[0m\u001b[0;34m.\u001b[0m\u001b[0mbest_estimator_\u001b[0m\u001b[0;34m\u001b[0m\u001b[0;34m\u001b[0m\u001b[0m\n\u001b[0m\u001b[1;32m      2\u001b[0m \u001b[0mclf_accuracy\u001b[0m \u001b[0;34m=\u001b[0m \u001b[0mevaluate\u001b[0m\u001b[0;34m(\u001b[0m\u001b[0mbest_clf\u001b[0m\u001b[0;34m,\u001b[0m \u001b[0mX_test\u001b[0m\u001b[0;34m,\u001b[0m \u001b[0my_test\u001b[0m\u001b[0;34m)\u001b[0m\u001b[0;34m\u001b[0m\u001b[0;34m\u001b[0m\u001b[0m\n\u001b[1;32m      3\u001b[0m \u001b[0;34m\u001b[0m\u001b[0m\n\u001b[1;32m      4\u001b[0m \u001b[0my_pred13\u001b[0m\u001b[0;34m=\u001b[0m\u001b[0mbest_clf\u001b[0m\u001b[0;34m.\u001b[0m\u001b[0mpredict\u001b[0m\u001b[0;34m(\u001b[0m\u001b[0mX_test\u001b[0m\u001b[0;34m)\u001b[0m\u001b[0;34m\u001b[0m\u001b[0;34m\u001b[0m\u001b[0m\n\u001b[1;32m      5\u001b[0m \u001b[0mprint\u001b[0m\u001b[0;34m(\u001b[0m\u001b[0;34m'Testing Accuracy = {:0.2f}%.'\u001b[0m\u001b[0;34m.\u001b[0m\u001b[0mformat\u001b[0m\u001b[0;34m(\u001b[0m\u001b[0;34m(\u001b[0m\u001b[0mbest_clf\u001b[0m\u001b[0;34m.\u001b[0m\u001b[0mscore\u001b[0m\u001b[0;34m(\u001b[0m\u001b[0mX_test\u001b[0m\u001b[0;34m,\u001b[0m \u001b[0my_test\u001b[0m\u001b[0;34m)\u001b[0m\u001b[0;34m*\u001b[0m\u001b[0;36m100\u001b[0m\u001b[0;34m)\u001b[0m\u001b[0;34m)\u001b[0m\u001b[0;34m)\u001b[0m\u001b[0;34m\u001b[0m\u001b[0;34m\u001b[0m\u001b[0m\n",
      "\u001b[0;31mNameError\u001b[0m: name 'clf_random' is not defined"
     ]
    }
   ],
   "source": [
    "best_clf = clf_random.best_estimator_\n",
    "\n",
    "y_pred13=best_clf.predict(X_test)\n",
    "print('Testing Accuracy with 3 fold CV = {:0.2f}%.'.format((best_clf.score(X_test, y_test)*100)))\n",
    "print('Training Accuracy with 3 fold CV = {:0.2f}%.'.format((best_clf.score(X_train, y_train)*100)))"
   ]
  },
  {
   "cell_type": "markdown",
   "metadata": {
    "colab_type": "text",
    "id": "fr_bk7Mzq61l"
   },
   "source": [
    "### MLP"
   ]
  },
  {
   "cell_type": "markdown",
   "metadata": {
    "colab_type": "text",
    "id": "7sm4Ble81MI1"
   },
   "source": []
  },
  {
   "cell_type": "markdown",
   "metadata": {
    "colab_type": "text",
    "id": "8nlcDmCCsuF6"
   },
   "source": [
    "CV = 3"
   ]
  },
  {
   "cell_type": "code",
   "execution_count": null,
   "metadata": {
    "colab": {},
    "colab_type": "code",
    "id": "kLgCoZ8qrB3W"
   },
   "outputs": [],
   "source": [
    "from sklearn.neural_network import MLPClassifier\n",
    "from sklearn.model_selection import RandomizedSearchCV\n",
    "\n",
    "params_grid = {\n",
    "    'hidden_layer_sizes': [(50,50,50), (50,100,50), (100,)],\n",
    "    'activation': ['tanh', 'relu'],\n",
    "    'solver': ['sgd', 'adam'],\n",
    "    'alpha': [0.0001, 0.05],\n",
    "    'learning_rate': ['constant','adaptive'],\n",
    "}\n",
    "\n",
    "mlp = MLPClassifier()\n",
    "\n",
    "mlp_cv3 = RandomizedSearchCV(estimator = mlp, param_distributions = params_grid, cv = 3, n_jobs = -1, verbose = 2, random_state =seed)\n",
    "\n",
    "mlp_cv3.fit(X_train, y_train)"
   ]
  },
  {
   "cell_type": "markdown",
   "metadata": {
    "colab_type": "text",
    "id": "Yun62H3crdeU"
   },
   "source": []
  },
  {
   "cell_type": "code",
   "execution_count": null,
   "metadata": {
    "colab": {},
    "colab_type": "code",
    "id": "PIjCzCoFrj5C"
   },
   "outputs": [],
   "source": [
    "mlp_cv3.get_params_"
   ]
  },
  {
   "cell_type": "markdown",
   "metadata": {
    "colab_type": "text",
    "id": "BtpHUBoTrjA7"
   },
   "source": [
    "{'activation': 'tanh',\n",
    "\n",
    "\n",
    "\n",
    " 'alpha': 0.05,\n",
    "\n",
    "\n",
    " 'hidden_layer_sizes': (50, 100, 50),\n",
    "\n",
    "\n",
    "\n",
    " 'learning_rate': 'adaptive',\n",
    "\n",
    "\n",
    "\n",
    " 'solver': 'adam'}"
   ]
  },
  {
   "cell_type": "code",
   "execution_count": null,
   "metadata": {
    "colab": {},
    "colab_type": "code",
    "id": "CQes2qHirnWy"
   },
   "outputs": [],
   "source": [
    "mlp_cv3.get_score_"
   ]
  },
  {
   "cell_type": "markdown",
   "metadata": {
    "colab_type": "text",
    "id": "wh7QmDtcrnmP"
   },
   "source": [
    "0.9534586165533786"
   ]
  },
  {
   "cell_type": "code",
   "execution_count": null,
   "metadata": {
    "colab": {},
    "colab_type": "code",
    "id": "FyMK9J8brB6v"
   },
   "outputs": [],
   "source": [
    "y_pred_mlp3 = clf.predict(X_test)"
   ]
  },
  {
   "cell_type": "code",
   "execution_count": null,
   "metadata": {
    "colab": {},
    "colab_type": "code",
    "id": "nOgQbm6brB97"
   },
   "outputs": [],
   "source": [
    "acc_mlp3 = accuracy_score(y_test, y_pred_mlp3)\n",
    "print(acc_mlp3)"
   ]
  },
  {
   "cell_type": "markdown",
   "metadata": {
    "colab_type": "text",
    "id": "f0GEeZBwr6Bu"
   },
   "source": [
    "0.993452"
   ]
  },
  {
   "cell_type": "code",
   "execution_count": null,
   "metadata": {
    "colab": {},
    "colab_type": "code",
    "id": "tbAvVGyMrCN3"
   },
   "outputs": [],
   "source": [
    "plt.plot(y_test, 'bo', label='actual')\n",
    "plt.plot(y_pred_mlp3, 'ro', label='predicted')\n",
    "plt.legend()\n",
    "plt.show()"
   ]
  },
  {
   "cell_type": "markdown",
   "metadata": {
    "colab_type": "text",
    "id": "Q4aI1QcEu6C7"
   },
   "source": [
    "![alt text](https://github.com/samirakazemi/SCS_3253_010_Machine_Learning_Final_Project/blob/master/plots/mlp%20cv3.PNG?raw=true)"
   ]
  },
  {
   "cell_type": "markdown",
   "metadata": {
    "colab_type": "text",
    "id": "TKtLRWelsqoD"
   },
   "source": [
    "CV = 10"
   ]
  },
  {
   "cell_type": "code",
   "execution_count": null,
   "metadata": {
    "colab": {},
    "colab_type": "code",
    "id": "T12MysR7rCQ6"
   },
   "outputs": [],
   "source": [
    "from sklearn.neural_network import MLPClassifier\n",
    "from sklearn.model_selection import RandomizedSearchCV\n",
    "\n",
    "params_grid = {\n",
    "    'hidden_layer_sizes': [(50,50,50), (50,100,50), (100,)],\n",
    "    'activation': ['tanh', 'relu'],\n",
    "    'solver': ['sgd', 'adam'],\n",
    "    'alpha': [0.0001, 0.05],\n",
    "    'learning_rate': ['constant','adaptive'],\n",
    "}\n",
    "\n",
    "mlp = MLPClassifier()\n",
    "\n",
    "mlp_cv10 = RandomizedSearchCV(estimator = mlp, param_distributions = params_grid, cv = 10, n_jobs = -1, verbose = 2, random_state =seed)\n",
    "\n",
    "mlp_cv10.fit(X_train, y_train)"
   ]
  },
  {
   "cell_type": "markdown",
   "metadata": {
    "colab_type": "text",
    "id": "oc75QKsetAdD"
   },
   "source": []
  },
  {
   "cell_type": "code",
   "execution_count": null,
   "metadata": {
    "colab": {},
    "colab_type": "code",
    "id": "Gl11E4Ujtkn7"
   },
   "outputs": [],
   "source": [
    "mlp_cv10.best_params_ "
   ]
  },
  {
   "cell_type": "markdown",
   "metadata": {
    "colab_type": "text",
    "id": "OjwTCD4dtk0-"
   },
   "source": [
    "{'activation': 'tanh',\n",
    " 'alpha': 0.05,\n",
    " 'hidden_layer_sizes': (50, 100, 50),\n",
    " 'learning_rate': 'adaptive',\n",
    " 'solver': 'adam'}"
   ]
  },
  {
   "cell_type": "code",
   "execution_count": null,
   "metadata": {
    "colab": {},
    "colab_type": "code",
    "id": "ZniHeXRHtk_Q"
   },
   "outputs": [],
   "source": [
    "mlp_cv10.best_score_ "
   ]
  },
  {
   "cell_type": "markdown",
   "metadata": {
    "colab_type": "text",
    "id": "HfVxevbxtlHG"
   },
   "source": [
    "0.9935225909636145"
   ]
  },
  {
   "cell_type": "code",
   "execution_count": null,
   "metadata": {
    "colab": {},
    "colab_type": "code",
    "id": "DPcDT0dDtO7m"
   },
   "outputs": [],
   "source": [
    "y_pred_mlp10 = mlp_cv10.predict(X_test)"
   ]
  },
  {
   "cell_type": "code",
   "execution_count": null,
   "metadata": {
    "colab": {},
    "colab_type": "code",
    "id": "qxsqdPnvtcpZ"
   },
   "outputs": [],
   "source": [
    "acc_mlp10 = accuracy_score(y_test, y_pred_10)\n",
    "print(acc_mlp10)"
   ]
  },
  {
   "cell_type": "markdown",
   "metadata": {
    "colab_type": "text",
    "id": "Irqgp1SNtgRB"
   },
   "source": [
    "0.994437"
   ]
  },
  {
   "cell_type": "code",
   "execution_count": null,
   "metadata": {
    "colab": {},
    "colab_type": "code",
    "id": "JZxBF8B9tw9j"
   },
   "outputs": [],
   "source": [
    "plt.plot(y_test, 'bo', label='actual')\n",
    "plt.plot(y_pred_mlp10, 'ro', label='predicted')\n",
    "plt.legend()\n",
    "plt.show()"
   ]
  },
  {
   "cell_type": "markdown",
   "metadata": {
    "colab_type": "text",
    "id": "Lt8pxX50u0Kz"
   },
   "source": [
    "![alt text](https://github.com/samirakazemi/SCS_3253_010_Machine_Learning_Final_Project/blob/master/plots/mlp%20cv10.PNG?raw=true)"
   ]
  },
  {
   "cell_type": "code",
   "execution_count": null,
   "metadata": {},
   "outputs": [],
   "source": []
  }
 ],
 "metadata": {
  "accelerator": "GPU",
  "colab": {
   "collapsed_sections": [],
   "name": "Final Project with edits.ipynb",
   "provenance": [],
   "toc_visible": true,
   "version": "0.3.2"
  },
  "kernelspec": {
   "display_name": "Python 3 (ipykernel)",
   "language": "python",
   "name": "python3"
  },
  "language_info": {
   "codemirror_mode": {
    "name": "ipython",
    "version": 3
   },
   "file_extension": ".py",
   "mimetype": "text/x-python",
   "name": "python",
   "nbconvert_exporter": "python",
   "pygments_lexer": "ipython3",
   "version": "3.9.13"
  }
 },
 "nbformat": 4,
 "nbformat_minor": 4
}
